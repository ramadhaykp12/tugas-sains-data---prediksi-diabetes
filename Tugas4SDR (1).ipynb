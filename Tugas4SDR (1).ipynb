{
  "nbformat": 4,
  "nbformat_minor": 0,
  "metadata": {
    "colab": {
      "provenance": []
    },
    "kernelspec": {
      "name": "python3",
      "display_name": "Python 3"
    },
    "language_info": {
      "name": "python"
    }
  },
  "cells": [
    {
      "cell_type": "markdown",
      "source": [
        "**Tugas 4 SDR**\n",
        "By : Laura Magdalena Sihombing, M. Farhan Sugara, Ramadhany Kurnia Pratama, Ryan Tristan "
      ],
      "metadata": {
        "id": "1iYNZsMfTwRQ"
      }
    },
    {
      "cell_type": "code",
      "source": [
        "from google.colab import drive\n",
        "drive.mount('/content/drive')"
      ],
      "metadata": {
        "id": "9DuFvZ9mc7Iz"
      },
      "execution_count": null,
      "outputs": []
    },
    {
      "cell_type": "code",
      "source": [
        "import pandas as pd #Memanggil Library Pandas\n",
        "\n",
        "dataset = pd.read_csv('/content/drive/My Drive/dataset/diabetes.csv')\n",
        "dataset"
      ],
      "metadata": {
        "id": "73NJ8eCEuv8S"
      },
      "execution_count": null,
      "outputs": []
    },
    {
      "cell_type": "code",
      "source": [
        "dataset.describe()"
      ],
      "metadata": {
        "id": "no5IECIyvjR1"
      },
      "execution_count": null,
      "outputs": []
    },
    {
      "cell_type": "code",
      "source": [
        "min_threshold, max_threshold = dataset.Age.quantile([0.001, 0.999])\n",
        "min_threshold, max_threshold"
      ],
      "metadata": {
        "id": "clKq8NjHIuH3"
      },
      "execution_count": null,
      "outputs": []
    },
    {
      "cell_type": "code",
      "source": [
        "min_threshold1, max_threshold1 = dataset.BloodPressure.quantile([0.001, 0.999])\n",
        "min_threshold1, max_threshold1"
      ],
      "metadata": {
        "id": "eanqxSU5lChg"
      },
      "execution_count": null,
      "outputs": []
    },
    {
      "cell_type": "code",
      "source": [
        "min_threshold2, max_threshold2 = dataset.Insulin.quantile([0.001, 0.999])\n",
        "min_threshold2, max_threshold2"
      ],
      "metadata": {
        "id": "arYMYkmyl2rl"
      },
      "execution_count": null,
      "outputs": []
    },
    {
      "cell_type": "code",
      "source": [
        "min_threshold3, max_threshold3 = dataset.DiabetesPedigreeFunction.quantile([0.001, 0.999])\n",
        "min_threshold3, max_threshold3"
      ],
      "metadata": {
        "id": "Xksg7B-BmW4v"
      },
      "execution_count": null,
      "outputs": []
    },
    {
      "cell_type": "code",
      "source": [
        "min_threshold4, max_threshold4 = dataset.BMI.quantile([0.001, 0.999])\n",
        "min_threshold4, max_threshold4"
      ],
      "metadata": {
        "id": "1lOvVcvSnW5X"
      },
      "execution_count": null,
      "outputs": []
    },
    {
      "cell_type": "code",
      "source": [
        "min_threshold5, max_threshold5 = dataset.SkinThickness.quantile([0.001, 0.999])\n",
        "min_threshold5, max_threshold5"
      ],
      "metadata": {
        "id": "_tyhpyhmocfA"
      },
      "execution_count": null,
      "outputs": []
    },
    {
      "cell_type": "code",
      "source": [
        "min_threshold6, max_threshold6 = dataset.Pregnancies.quantile([0.001, 0.999])\n",
        "min_threshold6, max_threshold6"
      ],
      "metadata": {
        "id": "fs2HfR7zteCR"
      },
      "execution_count": null,
      "outputs": []
    },
    {
      "cell_type": "code",
      "source": [
        "dataset[dataset.Pregnancies > max_threshold6]"
      ],
      "metadata": {
        "id": "amKMHDMqlVmH"
      },
      "execution_count": null,
      "outputs": []
    },
    {
      "cell_type": "code",
      "source": [
        "dataset[dataset.Age< min_threshold]"
      ],
      "metadata": {
        "id": "5RSnQmocKK0g"
      },
      "execution_count": null,
      "outputs": []
    },
    {
      "cell_type": "code",
      "source": [
        "dataset[dataset.Age > max_threshold]"
      ],
      "metadata": {
        "id": "0T2ZnR-9Kq8C"
      },
      "execution_count": null,
      "outputs": []
    },
    {
      "cell_type": "code",
      "source": [
        "dataset2 = dataset[(dataset.Age < max_threshold) & (dataset.Age > min_threshold) & (dataset.BloodPressure < max_threshold1) & (dataset.Insulin < max_threshold2) & (dataset.DiabetesPedigreeFunction < max_threshold3)\n",
        "& (dataset.DiabetesPedigreeFunction > min_threshold3) & (dataset.BMI < max_threshold4) &(dataset.SkinThickness < max_threshold5) & (dataset.Pregnancies < max_threshold6)] \n",
        "dataset2.shape"
      ],
      "metadata": {
        "id": "o1jSKThyKKfi"
      },
      "execution_count": null,
      "outputs": []
    },
    {
      "cell_type": "code",
      "source": [
        "dataset2"
      ],
      "metadata": {
        "id": "h3X3hkRiM518"
      },
      "execution_count": null,
      "outputs": []
    },
    {
      "cell_type": "code",
      "source": [
        "dataset2.describe()"
      ],
      "metadata": {
        "id": "HacSCW2UMogQ"
      },
      "execution_count": null,
      "outputs": []
    },
    {
      "cell_type": "code",
      "source": [
        "import seaborn as sns\n",
        "sns.boxplot(x=dataset2['DiabetesPedigreeFunction'])"
      ],
      "metadata": {
        "id": "ivV3G7hIY4RS"
      },
      "execution_count": null,
      "outputs": []
    },
    {
      "cell_type": "code",
      "source": [
        "x = dataset2.iloc[:, 0:8]\n",
        "y = dataset2.iloc[:,8]\n",
        "x"
      ],
      "metadata": {
        "id": "eAQc1zZavuFf"
      },
      "execution_count": null,
      "outputs": []
    },
    {
      "cell_type": "code",
      "source": [
        "from sklearn import preprocessing\n",
        "min_max_scaler = preprocessing.MinMaxScaler()\n",
        "X_scale = min_max_scaler.fit_transform(x)\n",
        "X_scale"
      ],
      "metadata": {
        "id": "kioh_MfXXPRM"
      },
      "execution_count": null,
      "outputs": []
    },
    {
      "cell_type": "code",
      "source": [
        "from sklearn.model_selection import train_test_split\n",
        "\n",
        "x_train, x_test, y_train, y_test = train_test_split(X_scale, y, test_size=0.2)"
      ],
      "metadata": {
        "id": "3y-kaZowzQPW"
      },
      "execution_count": null,
      "outputs": []
    },
    {
      "cell_type": "code",
      "source": [
        "from sklearn.svm import SVC\n",
        "from sklearn.ensemble import RandomForestClassifier\n",
        "from sklearn.linear_model import LogisticRegression\n",
        "from sklearn.naive_bayes import GaussianNB\n",
        "from sklearn.naive_bayes import MultinomialNB\n",
        "from sklearn.tree import DecisionTreeClassifier"
      ],
      "metadata": {
        "id": "x305XMKszeiv"
      },
      "execution_count": null,
      "outputs": []
    },
    {
      "cell_type": "code",
      "source": [
        "model_params = {\n",
        "    'svm': {\n",
        "        'model': SVC(gamma='auto'),\n",
        "        'params' : {\n",
        "            'C': [100,1000,2000],\n",
        "            'kernel': ['rbf','linear']\n",
        "        }  \n",
        "    },\n",
        "    'random_forest': {\n",
        "        'model': RandomForestClassifier(),\n",
        "        'params' : {\n",
        "            'n_estimators': [1,5,10]\n",
        "        }\n",
        "    },\n",
        "    'logistic_regression' : {\n",
        "        'model': LogisticRegression(solver='liblinear',multi_class='auto'),\n",
        "        'params': {\n",
        "            'C': [1,5,10]\n",
        "        }\n",
        "    },\n",
        "    'naive_bayes_gaussian': {\n",
        "        'model': GaussianNB(),\n",
        "        'params': {}\n",
        "    },\n",
        "    'naive_bayes_multinomial': {\n",
        "        'model': MultinomialNB(),\n",
        "        'params': {}\n",
        "    },\n",
        "    'decision_tree': {\n",
        "        'model': DecisionTreeClassifier(),\n",
        "        'params': {\n",
        "            'criterion': ['gini','entropy'],\n",
        "            \n",
        "        }\n",
        "    }     \n",
        "}"
      ],
      "metadata": {
        "id": "Oy6LHkjBzh5b"
      },
      "execution_count": null,
      "outputs": []
    },
    {
      "cell_type": "code",
      "source": [
        "from sklearn.model_selection import GridSearchCV\n",
        "import pandas as pd\n",
        "scores = []\n",
        "\n",
        "for model_name, mp in model_params.items():\n",
        "    clf =  GridSearchCV(mp['model'], mp['params'], cv=5, return_train_score=False)\n",
        "    clf.fit(x_train, y_train)\n",
        "    scores.append({\n",
        "        'model': model_name,\n",
        "        'best_score': clf.best_score_,\n",
        "        'best_params': clf.best_params_\n",
        "    })\n",
        "    "
      ],
      "metadata": {
        "id": "ZCMbIcasRLLn"
      },
      "execution_count": null,
      "outputs": []
    },
    {
      "cell_type": "code",
      "source": [
        "df = pd.DataFrame(scores,columns=['model','best_score','best_params'])\n",
        "df"
      ],
      "metadata": {
        "id": "9OZrAfyv04he"
      },
      "execution_count": null,
      "outputs": []
    },
    {
      "cell_type": "code",
      "source": [
        "model  = SVC(C=100, gamma='auto', kernel='rbf')\n",
        "model.fit(x_train,y_train)"
      ],
      "metadata": {
        "id": "Kh2df2S2-mbe"
      },
      "execution_count": null,
      "outputs": []
    },
    {
      "cell_type": "code",
      "source": [
        "y_pred = model.predict(x_test)"
      ],
      "metadata": {
        "id": "VxoJPZzQTX79"
      },
      "execution_count": null,
      "outputs": []
    },
    {
      "cell_type": "code",
      "source": [
        "y_pred"
      ],
      "metadata": {
        "id": "T8rImeE8TtPM"
      },
      "execution_count": null,
      "outputs": []
    },
    {
      "cell_type": "code",
      "source": [
        "from sklearn.metrics import confusion_matrix\n",
        "cm = confusion_matrix(y_test, y_pred)"
      ],
      "metadata": {
        "id": "ZRO0AQ6TTlhc"
      },
      "execution_count": null,
      "outputs": []
    },
    {
      "cell_type": "code",
      "source": [
        "import seaborn as sns\n",
        "print(\"Confusion matrix of SVM\")\n",
        "f, ax = plt.subplots(figsize=(5,5))\n",
        "sns.heatmap(cm, annot = True, linewidths=0.5, linecolor=\"red\", fmt=\".0f\", ax=ax)"
      ],
      "metadata": {
        "id": "qmuFTjitUWbJ"
      },
      "execution_count": null,
      "outputs": []
    },
    {
      "cell_type": "code",
      "source": [],
      "metadata": {
        "id": "PtuBWvzdUgiO"
      },
      "execution_count": null,
      "outputs": []
    }
  ]
}